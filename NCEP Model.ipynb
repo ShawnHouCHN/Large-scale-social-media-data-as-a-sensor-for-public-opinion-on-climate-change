{
 "cells": [
  {
   "cell_type": "code",
   "execution_count": 17,
   "metadata": {},
   "outputs": [],
   "source": [
    "from __future__ import division\n",
    "from vincenty import vincenty\n",
    "import matplotlib.pyplot as plt\n",
    "import matplotlib.mlab as mlab\n",
    "import geoplotlib as gp\n",
    "import scipy as sp\n",
    "import gdal \n",
    "from gdalconst import * \n",
    "import datetime\n",
    "import math\n",
    "import operator\n",
    "import re\n",
    "import os\n",
    "import os.path\n",
    "import requests, time\n",
    "import urllib, json\n",
    "import csv\n",
    "from sklearn import neighbors, datasets,linear_model,preprocessing\n",
    "from sklearn.neighbors import KNeighborsClassifier\n",
    "from sklearn.neighbors import KNeighborsRegressor\n",
    "from sklearn.neighbors import RadiusNeighborsRegressor\n",
    "from sklearn.neighbors import LocalOutlierFactor\n",
    "from sklearn.model_selection import cross_val_score\n",
    "from sklearn.cross_validation import LeavePLabelOut\n",
    "from sklearn.preprocessing import scale\n",
    "from sklearn.metrics.pairwise import euclidean_distances\n",
    "from pylab import *\n",
    "from scipy import stats\n",
    "from sklearn.neighbors import DistanceMetric\n",
    "from sklearn import metrics\n",
    "import datetime as dt \n",
    "\n",
    "#for parallel processing\n",
    "from ipyparallel import Client\n",
    "\n",
    "import netCDF4\n",
    "from netCDF4 import Dataset\n",
    "\n",
    "%matplotlib inline"
   ]
  },
  {
   "cell_type": "markdown",
   "metadata": {},
   "source": [
    "### Data Processing "
   ]
  },
  {
   "cell_type": "markdown",
   "metadata": {},
   "source": [
    "#### Humidity Interpretation"
   ]
  },
  {
   "cell_type": "code",
   "execution_count": 24,
   "metadata": {},
   "outputs": [
    {
     "name": "stdout",
     "output_type": "stream",
     "text": [
      "HUM Data Dimension:  [u'lon', u'lat', u'level', u'time', u'nbnds']\n"
     ]
    }
   ],
   "source": [
    "year='2016'\n",
    "hum_year=Dataset('data\\\\daily NCEP dataframes\\\\rhum.'+year+'.nc')\n",
    "print \"HUM Data Dimension: \",hum_year.dimensions.keys()"
   ]
  },
  {
   "cell_type": "code",
   "execution_count": 33,
   "metadata": {},
   "outputs": [
    {
     "data": {
      "text/plain": [
       "<type 'netCDF4._netCDF4.Variable'>\n",
       "int16 rhum(time, level, lat, lon)\n",
       "    long_name: daily mean 6-hourly Relative Humidity on Pressure Levels\n",
       "    valid_range: [-32765 -17766]\n",
       "    unpacked_valid_range: [ -25.  125.]\n",
       "    actual_range: [  -5.75  106.75]\n",
       "    units: %\n",
       "    add_offset: 302.65\n",
       "    scale_factor: 0.01\n",
       "    missing_value: 32766\n",
       "    _FillValue: -32767\n",
       "    precision: 2\n",
       "    least_significant_digit: 0\n",
       "    GRIB_id: 52\n",
       "    GRIB_name: RH\n",
       "    var_desc: Relative humidity\n",
       "    dataset: NCEP/DOE AMIP-II Reanalysis (Reanalysis-2) Daily Averages\n",
       "    level_desc: Pressure Levels\n",
       "    statistic: Mean\n",
       "    parent_stat: Individual Obs\n",
       "    standard_name: relative_humidity\n",
       "unlimited dimensions: time\n",
       "current shape = (366, 17, 73, 144)\n",
       "filling off"
      ]
     },
     "execution_count": 33,
     "metadata": {},
     "output_type": "execute_result"
    }
   ],
   "source": [
    "hum_year.variables['rhum']"
   ]
  },
  {
   "cell_type": "code",
   "execution_count": 38,
   "metadata": {
    "scrolled": false
   },
   "outputs": [],
   "source": [
    "hum_lats = hum_year.variables['lat'][:]  \n",
    "hum_lons = hum_year.variables['lon'][:]\n",
    "rhum_var = hum_year.variables['rhum'][:]\n",
    "time_var = hum_year.variables['time']\n",
    "\n",
    "dtime = netCDF4.num2date(time_var[:],time_var.units)\n",
    "\n",
    "first = netCDF4.num2date(time_var[0],time_var.units)\n",
    "last = netCDF4.num2date(time_var[-1],time_var.units)\n",
    "first_date = first.strftime('%Y%m%d')\n",
    "last_date = last.strftime('%Y%m%d')"
   ]
  },
  {
   "cell_type": "markdown",
   "metadata": {},
   "source": [
    "#### Cloud Cover Interpolation"
   ]
  },
  {
   "cell_type": "code",
   "execution_count": 41,
   "metadata": {},
   "outputs": [
    {
     "name": "stdout",
     "output_type": "stream",
     "text": [
      "Cloud Cover Data Dimension:  [u'lon', u'lat', u'nbnds', u'time']\n"
     ]
    }
   ],
   "source": [
    "cc_year=Dataset('data\\\\daily NCEP dataframes\\\\tcdc.eatm.gauss.'+year+'.nc')\n",
    "print \"Cloud Cover Data Dimension: \",cc_year.dimensions.keys()"
   ]
  },
  {
   "cell_type": "code",
   "execution_count": 40,
   "metadata": {},
   "outputs": [
    {
     "data": {
      "text/plain": [
       "<type 'netCDF4._netCDF4.Variable'>\n",
       "int16 tcdc(time, lat, lon)\n",
       "    long_name: daily mean 6-Hourly Mean of Total Cloud Cover at Entire Atmosphere Considered as a Single Layer\n",
       "    valid_range: [-32765 -31765]\n",
       "    unpacked_valid_range: [   0.  100.]\n",
       "    actual_range: [   0.  100.]\n",
       "    units: %\n",
       "    add_offset: 3276.5\n",
       "    scale_factor: 0.1\n",
       "    missing_value: 32766\n",
       "    _FillValue: -32767\n",
       "    precision: 1\n",
       "    least_significant_digit: 0\n",
       "    GRIB_id: 71\n",
       "    GRIB_name: TCDC\n",
       "    var_desc: Total cloud cover\n",
       "    dataset: NCEP/DOE AMIP-II Reanalysis (Reanalysis-2) Daily Averages\n",
       "    level_desc: Entire Atmosphere Considered As a Single Layer\n",
       "    statistic: Mean\n",
       "    parent_stat: Individual Obs\n",
       "    standard_name: cloud_area_fraction\n",
       "    cell_methods: time: mean\n",
       "unlimited dimensions: time\n",
       "current shape = (366, 94, 192)\n",
       "filling off"
      ]
     },
     "execution_count": 40,
     "metadata": {},
     "output_type": "execute_result"
    }
   ],
   "source": [
    "cc_year.variables['tcdc']"
   ]
  },
  {
   "cell_type": "code",
   "execution_count": null,
   "metadata": {
    "collapsed": true
   },
   "outputs": [],
   "source": [
    "cc_lats = cc_year.variables['lat'][:]  \n",
    "cc_lons = cc_year.variables['lon'][:]\n",
    "cc_var = cc_year.variables['rhum'][:]\n",
    "time_var = cc_year.variables['time']\n",
    "\n",
    "dtime = netCDF4.num2date(time_var[:],time_var.units)\n",
    "\n",
    "first = netCDF4.num2date(time_var[0],time_var.units)\n",
    "last = netCDF4.num2date(time_var[-1],time_var.units)\n",
    "first_date = first.strftime('%Y%m%d')\n",
    "last_date = last.strftime('%Y%m%d')"
   ]
  },
  {
   "cell_type": "markdown",
   "metadata": {},
   "source": [
    "#### Wind Interpolation"
   ]
  },
  {
   "cell_type": "code",
   "execution_count": 45,
   "metadata": {},
   "outputs": [
    {
     "name": "stdout",
     "output_type": "stream",
     "text": [
      "V Wind Data Dimension:  [u'lon', u'lat', u'level', u'time', u'nbnds']\n",
      "U Wind Data Dimension:  [u'lon', u'lat', u'level', u'time', u'nbnds']\n"
     ]
    }
   ],
   "source": [
    "vw_year=Dataset('data\\\\daily NCEP dataframes\\\\vwnd.10m.gauss.'+year+'.nc')\n",
    "uw_year=Dataset('data\\\\daily NCEP dataframes\\\\uwnd.10m.gauss.'+year+'.nc')\n",
    "print \"V Wind Data Dimension: \",vw_year.dimensions.keys()\n",
    "print \"U Wind Data Dimension: \",uw_year.dimensions.keys()"
   ]
  },
  {
   "cell_type": "code",
   "execution_count": 48,
   "metadata": {},
   "outputs": [
    {
     "name": "stdout",
     "output_type": "stream",
     "text": [
      "<type 'netCDF4._netCDF4.Variable'>\n",
      "int16 vwnd(time, level, lat, lon)\n",
      "    long_name: daily mean 6-Hourly Forecast of V-wind at 10 m\n",
      "    valid_range: [-32765  -8765]\n",
      "    unpacked_valid_range: [-120.  120.]\n",
      "    actual_range: [-32.13999939  29.38999939]\n",
      "    units: m/s\n",
      "    add_offset: 207.65\n",
      "    scale_factor: 0.01\n",
      "    missing_value: 32766\n",
      "    _FillValue: -32767\n",
      "    precision: 2\n",
      "    least_significant_digit: 1\n",
      "    GRIB_id: 34\n",
      "    GRIB_name: V GRD\n",
      "    var_desc: v-wind\n",
      "    dataset: NCEP/DOE AMIP-II Reanalysis (Reanalysis-2) Daily Averages\n",
      "    level_desc: 10 m\n",
      "    statistic: Mean\n",
      "    parent_stat: Individual Obs\n",
      "    standard_name: northward_wind\n",
      "unlimited dimensions: time\n",
      "current shape = (366, 1, 94, 192)\n",
      "filling off\n",
      "\n",
      "-------------------------------------------------------\n",
      "<type 'netCDF4._netCDF4.Variable'>\n",
      "int16 uwnd(time, level, lat, lon)\n",
      "    long_name: daily mean 6-Hourly Forecast of U-wind at 10 m\n",
      "    valid_range: [-32765  -8765]\n",
      "    unpacked_valid_range: [-120.  120.]\n",
      "    actual_range: [-34.83999634  33.69000244]\n",
      "    units: m/s\n",
      "    add_offset: 207.65\n",
      "    scale_factor: 0.01\n",
      "    missing_value: 32766\n",
      "    _FillValue: -32767\n",
      "    precision: 2\n",
      "    least_significant_digit: 1\n",
      "    GRIB_id: 33\n",
      "    GRIB_name: U GRD\n",
      "    var_desc: u-wind\n",
      "    dataset: NCEP/DOE AMIP-II Reanalysis (Reanalysis-2) Daily Averages\n",
      "    level_desc: 10 m\n",
      "    statistic: Mean\n",
      "    parent_stat: Individual Obs\n",
      "    standard_name: eastward_wind\n",
      "unlimited dimensions: time\n",
      "current shape = (366, 1, 94, 192)\n",
      "filling off\n",
      "\n"
     ]
    }
   ],
   "source": [
    "print vw_year.variables['vwnd']\n",
    "print \"-------------------------------------------------------\"\n",
    "print uw_year.variables['uwnd']"
   ]
  }
 ],
 "metadata": {
  "kernelspec": {
   "display_name": "Python [conda root]",
   "language": "python",
   "name": "conda-root-py"
  },
  "language_info": {
   "codemirror_mode": {
    "name": "ipython",
    "version": 2
   },
   "file_extension": ".py",
   "mimetype": "text/x-python",
   "name": "python",
   "nbconvert_exporter": "python",
   "pygments_lexer": "ipython2",
   "version": "2.7.12"
  }
 },
 "nbformat": 4,
 "nbformat_minor": 2
}
